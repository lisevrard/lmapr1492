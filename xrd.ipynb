{
 "cells": [
  {
   "cell_type": "code",
   "execution_count": 9,
   "id": "smaller-cooking",
   "metadata": {},
   "outputs": [],
   "source": [
    "from pymatgen.ext.matproj import MPRester\n",
    "from pymatgen.analysis.diffraction.xrd import XRDCalculator\n",
    "import numpy as np"
   ]
  },
  {
   "cell_type": "code",
   "execution_count": 10,
   "id": "exotic-jones",
   "metadata": {},
   "outputs": [],
   "source": [
    "with MPRester(\"XWkv843w7d9S0lue\") as m:\n",
    "    structure = m.get_structure_by_material_id(\"mp-7958\")\n",
    "    data=m.get_data(\"mp-7958\")"
   ]
  },
  {
   "cell_type": "code",
   "execution_count": 11,
   "id": "controversial-glenn",
   "metadata": {
    "scrolled": true
   },
   "outputs": [],
   "source": [
    "lam = 1.54060\n",
    "a=float(data[0].get('cif')[94:103])\n",
    "vect1=[1,1,1]\n",
    "vect2=[1,0,0]\n",
    "vect3=[2,2,2]"
   ]
  },
  {
   "cell_type": "code",
   "execution_count": 12,
   "id": "collect-remainder",
   "metadata": {},
   "outputs": [],
   "source": [
    "lam = 1.54060\n",
    "a=float(data[0].get('cif')[94:103])\n",
    "alpha=float(data[0].get('cif')[181:192])*(np.pi/180)      "
   ]
  },
  {
   "cell_type": "code",
   "execution_count": 13,
   "id": "laden-madison",
   "metadata": {},
   "outputs": [
    {
     "name": "stdout",
     "output_type": "stream",
     "text": [
      "14.05474415413775\n"
     ]
    }
   ],
   "source": [
    "d1=a*(1-(np.cos(alpha)))*((1+2*np.cos(alpha))/((((vect1[0]**2)+(vect1[1]**2)+(vect1[2]**2))*(np.sin(alpha)**2))+(2*(vect1[0]*vect1[1] + vect1[1]*vect1[2] + vect1[0]*vect1[2])*(((np.cos(alpha))**2)-np.cos(alpha)))))**0.5\n",
    "theta1=np.arcsin(lam/(2*d1))*180/np.pi\n",
    "theta11=2*theta1\n",
    "print(theta11)"
   ]
  },
  {
   "cell_type": "code",
   "execution_count": 14,
   "id": "curious-maker",
   "metadata": {},
   "outputs": [
    {
     "name": "stdout",
     "output_type": "stream",
     "text": [
      "27.981283026643712\n"
     ]
    }
   ],
   "source": [
    "d2=a*(1-(np.cos(alpha)))*((1+2*np.cos(alpha))/((((vect2[0]**2)+(vect2[1]**2)+(vect2[2]**2))*(np.sin(alpha)**2))+(2*(vect2[0]*vect2[1] + vect2[1]*vect2[2] + vect2[0]*vect2[2])*(((np.cos(alpha))**2)-np.cos(alpha)))))**0.5\n",
    "theta2=np.arcsin(lam/(2*d2))*180/np.pi\n",
    "theta22=2*theta2\n",
    "print(theta22)"
   ]
  },
  {
   "cell_type": "code",
   "execution_count": 15,
   "id": "restricted-collector",
   "metadata": {},
   "outputs": [
    {
     "name": "stdout",
     "output_type": "stream",
     "text": [
      "28.326674655516538\n"
     ]
    }
   ],
   "source": [
    "d3=a*(1-(np.cos(alpha)))*((1+2*np.cos(alpha))/((((vect3[0]**2)+(vect3[1]**2)+(vect3[2]**2))*(np.sin(alpha)**2))+(2*(vect3[0]*vect3[1] + vect3[1]*vect3[2] + vect3[0]*vect3[2])*(((np.cos(alpha))**2)-np.cos(alpha)))))**0.5\n",
    "theta3=np.arcsin(lam/(2*d3))*180/np.pi\n",
    "theta33=2*theta3\n",
    "print(theta33)"
   ]
  },
  {
   "cell_type": "markdown",
   "id": "developmental-sector",
   "metadata": {},
   "source": [
    "# Verification des calculs "
   ]
  },
  {
   "cell_type": "code",
   "execution_count": 16,
   "id": "ethical-retro",
   "metadata": {},
   "outputs": [],
   "source": [
    "patt=XRDCalculator(1.54060).get_pattern(structure)"
   ]
  },
  {
   "cell_type": "code",
   "execution_count": 20,
   "id": "cooperative-genealogy",
   "metadata": {},
   "outputs": [
    {
     "name": "stdout",
     "output_type": "stream",
     "text": [
      "Vecteur hkl = [{'hkl': (1, 1, 1), 'multiplicity': 2}]\n",
      "Distance entre les plans hkl = 6.296207158456198\n",
      "2θ = 14.054743616779103\n",
      "Intensité du pic en % = 72.90461123177928\n"
     ]
    }
   ],
   "source": [
    "#pic1\n",
    "print(\"Vecteur hkl =\",patt.hkls[0])\n",
    "print(\"Distance entre les plans hkl =\",patt.d_hkls[0])\n",
    "print(\"2θ =\",patt.x[0])\n",
    "print(\"Intensité du pic en % =\",patt.y[0])"
   ]
  },
  {
   "cell_type": "code",
   "execution_count": 21,
   "id": "accepted-equality",
   "metadata": {},
   "outputs": [
    {
     "name": "stdout",
     "output_type": "stream",
     "text": [
      "Vecteur hkl = [{'hkl': (1, 0, 0), 'multiplicity': 6}]\n",
      "Distance entre les plans hkl = 3.186173266138862\n",
      "2θ = 27.981279078276398\n",
      "Intensité du pic en % = 30.78860868241275\n"
     ]
    }
   ],
   "source": [
    "#pic2\n",
    "print(\"Vecteur hkl =\",patt.hkls[1])\n",
    "print(\"Distance entre les plans hkl =\",patt.d_hkls[1])\n",
    "print(\"2θ =\",patt.x[1])\n",
    "print(\"Intensité du pic en % =\",patt.y[1])"
   ]
  },
  {
   "cell_type": "code",
   "execution_count": 22,
   "id": "comparative-masters",
   "metadata": {},
   "outputs": [
    {
     "name": "stdout",
     "output_type": "stream",
     "text": [
      "Vecteur hkl = [{'hkl': (2, 2, 2), 'multiplicity': 2}]\n",
      "Distance entre les plans hkl = 3.148103579228099\n",
      "2θ = 28.3266735554325\n",
      "Intensité du pic en % = 28.217705356060414\n"
     ]
    }
   ],
   "source": [
    "#pic3\n",
    "print(\"Vecteur hkl =\",patt.hkls[2])\n",
    "print(\"Distance entre les plans hkl =\",patt.d_hkls[2])\n",
    "print(\"2θ =\",patt.x[2])\n",
    "print(\"Intensité du pic en % =\",patt.y[2])"
   ]
  },
  {
   "cell_type": "code",
   "execution_count": null,
   "id": "aware-livestock",
   "metadata": {},
   "outputs": [],
   "source": []
  }
 ],
 "metadata": {
  "kernelspec": {
   "display_name": "Python 3",
   "language": "python",
   "name": "python3"
  },
  "language_info": {
   "codemirror_mode": {
    "name": "ipython",
    "version": 3
   },
   "file_extension": ".py",
   "mimetype": "text/x-python",
   "name": "python",
   "nbconvert_exporter": "python",
   "pygments_lexer": "ipython3",
   "version": "3.6.8"
  }
 },
 "nbformat": 4,
 "nbformat_minor": 5
}
