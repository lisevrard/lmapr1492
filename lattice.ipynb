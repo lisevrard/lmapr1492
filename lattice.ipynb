{
 "cells": [
  {
   "cell_type": "code",
   "execution_count": 15,
   "id": "touched-possibility",
   "metadata": {},
   "outputs": [],
   "source": [
    "from pymatgen import Lattice, Structure, Molecule\n",
    "from pymatgen.ext.matproj import MPRester\n",
    "import math"
   ]
  },
  {
   "cell_type": "code",
   "execution_count": 16,
   "id": "optimum-moral",
   "metadata": {},
   "outputs": [],
   "source": [
    "with MPRester(\"XWkv843w7d9S0lue\") as m:\n",
    "    structure = m.get_structure_by_material_id(\"mp-7958\")\n",
    "    dos = m.get_dos_by_material_id(\"mp-7958\")\n",
    "    bandstructure = m.get_bandstructure_by_material_id(\"mp-7958\")\n",
    "    data=m.get_data(\"mp-7958\")"
   ]
  },
  {
   "cell_type": "code",
   "execution_count": 19,
   "id": "animated-english",
   "metadata": {},
   "outputs": [
    {
     "name": "stdout",
     "output_type": "stream",
     "text": [
      "32.5731382\n"
     ]
    }
   ],
   "source": [
    "a=float(data[0].get('cif')[94:103])\n",
    "b=float(data[0].get('cif')[122:132])\n",
    "c=float(data[0].get('cif')[150:160])\n",
    "alpha=float(data[0].get('cif')[181:192])\n",
    "beta=float(data[0].get('cif')[212:223])\n",
    "gamma=float(data[0].get('cif')[244:255])                                                   "
   ]
  },
  {
   "cell_type": "code",
   "execution_count": 20,
   "id": "norwegian-bundle",
   "metadata": {},
   "outputs": [],
   "source": [
    "a_direct= [-(a/(6)**0.5)*(3**0.5)*(1-math.cos(alpha))**0.5,-(a/(6)**0.5)*(1-math.cos(alpha))**0.5,(a/(6)**0.5)*(2**0.5)*(1+2*math.cos(alpha))**0.5]\n",
    "b_direct= [(a/(6)**0.5)*(3**0.5)*(1-math.cos(alpha))**0.5,-(a/(6)**0.5)*(1-math.cos(alpha))**0.5,(a/(6)**0.5)*(2**0.5)*(1+2*math.cos(alpha))**0.5]\n",
    "c_direct= [0,2*(a/(6)**0.5)*(1-math.cos(alpha))**0.5,(a/(6)**0.5)*(2**0.5)*(1+2*math.cos(alpha))**0.5]"
   ]
  },
  {
   "cell_type": "code",
   "execution_count": 5,
   "id": "hazardous-opinion",
   "metadata": {},
   "outputs": [],
   "source": [
    "a_reciproque=[2*math.pi/(6*a)*(-3*(2**0.5))/((1-math.cos(alpha))**0.5), 2*math.pi/(6*a)*(-(6**0.5))/((1-math.cos(alpha))**0.5), 2*math.pi/(6*a)*(2*(3**0.5))/((1-math.cos(alpha))**0.5)]\n",
    "b_reciproque=[2*math.pi/(6*a)*(3*(2**0.5))/((1-math.cos(alpha))**0.5), 2*math.pi/(6*a)*(-(6**0.5))/((1-math.cos(alpha))**0.5), 2*math.pi/(6*a)*(2*(3**0.5))/((1-math.cos(alpha))**0.5)]\n",
    "c_reciproque=[0, 2*math.pi/(6*a)*(2*(6**0.5))/((1-math.cos(alpha))**0.5), 2*math.pi/(6*a)*(2*(3**0.5))/((1-math.cos(alpha))**0.5)]                                                                                                                                                                                                               "
   ]
  },
  {
   "cell_type": "code",
   "execution_count": 14,
   "id": "developed-playback",
   "metadata": {},
   "outputs": [
    {
     "name": "stdout",
     "output_type": "stream",
     "text": [
      "trigonal\n"
     ]
    }
   ],
   "source": [
    "sys=data[0].get('spacegroup').get('crystal_system')\n",
    "groupe=data[0].get('spacegroup').get('point_group')\n",
    "maille = \"primitive"
   ]
  }
 ],
 "metadata": {
  "kernelspec": {
   "display_name": "Python 3",
   "language": "python",
   "name": "python3"
  },
  "language_info": {
   "codemirror_mode": {
    "name": "ipython",
    "version": 3
   },
   "file_extension": ".py",
   "mimetype": "text/x-python",
   "name": "python",
   "nbconvert_exporter": "python",
   "pygments_lexer": "ipython3",
   "version": "3.6.8"
  }
 },
 "nbformat": 4,
 "nbformat_minor": 5
}
