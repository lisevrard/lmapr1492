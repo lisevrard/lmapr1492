{
 "cells": [
  {
   "cell_type": "code",
   "execution_count": 9,
   "id": "touched-possibility",
   "metadata": {},
   "outputs": [],
   "source": [
    "from pymatgen import Lattice, Structure, Molecule\n",
    "from pymatgen.ext.matproj import MPRester\n",
    "import math"
   ]
  },
  {
   "cell_type": "code",
   "execution_count": 10,
   "id": "optimum-moral",
   "metadata": {},
   "outputs": [],
   "source": [
    "with MPRester(\"XWkv843w7d9S0lue\") as m:\n",
    "    structure = m.get_structure_by_material_id(\"mp-7958\")\n",
    "    dos = m.get_dos_by_material_id(\"mp-7958\")\n",
    "    bandstructure = m.get_bandstructure_by_material_id(\"mp-7958\")\n",
    "    data=m.get_data(\"mp-7958\")"
   ]
  },
  {
   "cell_type": "code",
   "execution_count": 11,
   "id": "animated-english",
   "metadata": {},
   "outputs": [],
   "source": [
    "a=float(data[0].get('cif')[94:103])\n",
    "b=float(data[0].get('cif')[122:132])\n",
    "c=float(data[0].get('cif')[150:160])\n",
    "alpha=float(data[0].get('cif')[181:192])\n",
    "beta=float(data[0].get('cif')[212:223])\n",
    "gamma=float(data[0].get('cif')[244:255])                                                   "
   ]
  },
  {
   "cell_type": "code",
   "execution_count": 12,
   "id": "norwegian-bundle",
   "metadata": {},
   "outputs": [
    {
     "name": "stdout",
     "output_type": "stream",
     "text": [
      "[-3.63921989587658, -2.101104586524585, 5.160199997787635]\n",
      "[3.63921989587658, -2.101104586524585, 5.160199997787635]\n",
      "[0, 4.20220917304917, 5.160199997787635]\n"
     ]
    }
   ],
   "source": [
    "a_direct= [-(a/(6)**0.5)*(3**0.5)*(1-math.cos(alpha))**0.5,-(a/(6)**0.5)*(1-math.cos(alpha))**0.5,(a/(6)**0.5)*(2**0.5)*(1+2*math.cos(alpha))**0.5]\n",
    "b_direct= [(a/(6)**0.5)*(3**0.5)*(1-math.cos(alpha))**0.5,-(a/(6)**0.5)*(1-math.cos(alpha))**0.5,(a/(6)**0.5)*(2**0.5)*(1+2*math.cos(alpha))**0.5]\n",
    "c_direct= [0,2*(a/(6)**0.5)*(1-math.cos(alpha))**0.5,(a/(6)**0.5)*(2**0.5)*(1+2*math.cos(alpha))**0.5]\n",
    "print(a_direct)\n",
    "print(b_direct)\n",
    "print(c_direct)"
   ]
  },
  {
   "cell_type": "code",
   "execution_count": 13,
   "id": "hazardous-opinion",
   "metadata": {},
   "outputs": [
    {
     "name": "stdout",
     "output_type": "stream",
     "text": [
      "[-0.8632599137934417, -0.49840334360925653, 0.7048487680643085]\n",
      "[0.8632599137934417, -0.49840334360925653, 0.7048487680643085]\n",
      "[0, 0.9968066872185131, 0.7048487680643085]\n"
     ]
    }
   ],
   "source": [
    "a_reciproque=[2*math.pi/(6*a)*(-3*(2**0.5))/((1-math.cos(alpha))**0.5), 2*math.pi/(6*a)*(-(6**0.5))/((1-math.cos(alpha))**0.5), 2*math.pi/(6*a)*(2*(3**0.5))/((1-math.cos(alpha))**0.5)]\n",
    "b_reciproque=[2*math.pi/(6*a)*(3*(2**0.5))/((1-math.cos(alpha))**0.5), 2*math.pi/(6*a)*(-(6**0.5))/((1-math.cos(alpha))**0.5), 2*math.pi/(6*a)*(2*(3**0.5))/((1-math.cos(alpha))**0.5)]\n",
    "c_reciproque=[0, 2*math.pi/(6*a)*(2*(6**0.5))/((1-math.cos(alpha))**0.5), 2*math.pi/(6*a)*(2*(3**0.5))/((1-math.cos(alpha))**0.5)]\n",
    "print(a_reciproque)\n",
    "print(b_reciproque)\n",
    "print(c_reciproque)\n"
   ]
  },
  {
   "cell_type": "code",
   "execution_count": 14,
   "id": "developed-playback",
   "metadata": {},
   "outputs": [
    {
     "name": "stdout",
     "output_type": "stream",
     "text": [
      "trigonal\n",
      "-3m\n",
      "primitive\n"
     ]
    }
   ],
   "source": [
    "sys=data[0].get('spacegroup').get('crystal_system')\n",
    "groupe=data[0].get('spacegroup').get('point_group')\n",
    "maille = \"primitive\"\n",
    "print(sys)\n",
    "print (groupe)\n",
    "print(maille)"
   ]
  },
  {
   "cell_type": "code",
   "execution_count": null,
   "id": "pressed-frequency",
   "metadata": {},
   "outputs": [],
   "source": []
  }
 ],
 "metadata": {
  "kernelspec": {
   "display_name": "Python 3",
   "language": "python",
   "name": "python3"
  }
 },
 "nbformat": 4,
 "nbformat_minor": 5
}
