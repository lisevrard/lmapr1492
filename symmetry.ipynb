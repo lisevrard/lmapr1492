{
 "cells": [
  {
   "cell_type": "code",
   "execution_count": 38,
   "id": "talented-tutorial",
   "metadata": {},
   "outputs": [],
   "source": [
    "from pymatgen import Lattice, Structure, Molecule\n",
    "from pymatgen.ext.matproj import MPRester\n",
    "from jupyter_jsmol.pymatgen import quick_view\n",
    "from pymatgen.symmetry.analyzer import SpacegroupAnalyzer"
   ]
  },
  {
   "cell_type": "code",
   "execution_count": 39,
   "id": "biological-audience",
   "metadata": {},
   "outputs": [],
   "source": [
    "with MPRester(\"XWkv843w7d9S0lue\") as m:\n",
    "    structure = m.get_structure_by_material_id(\"mp-7958\")\n",
    "spa_symmop=SpacegroupAnalyzer(structure).get_symmetry_operations()"
   ]
  },
  {
   "cell_type": "code",
   "execution_count": 40,
   "id": "noted-following",
   "metadata": {},
   "outputs": [
    {
     "data": {
      "application/vnd.jupyter.widget-view+json": {
       "model_id": "cdbb38fec9ae498b85c770ec267e613e",
       "version_major": 2,
       "version_minor": 0
      },
      "text/plain": [
       "JsmolView(layout=Layout(align_self='stretch', height='400px'))"
      ]
     },
     "metadata": {},
     "output_type": "display_data"
    },
    {
     "name": "stdout",
     "output_type": "stream",
     "text": [
      "Rot:\n",
      "[[0. 0. 1.]\n",
      " [0. 1. 0.]\n",
      " [1. 0. 0.]]\n",
      "tau\n",
      "[0. 0. 0.]\n"
     ]
    }
   ],
   "source": [
    "view =quick_view(structure)\n",
    "display(view)\n",
    "view.script(\"draw symop 12 {atomno=4}\")\n",
    "sym1=spa_symmop[11]\n",
    "print(sym1)"
   ]
  },
  {
   "cell_type": "code",
   "execution_count": 41,
   "id": "caring-institution",
   "metadata": {},
   "outputs": [
    {
     "data": {
      "application/vnd.jupyter.widget-view+json": {
       "model_id": "b2278fad38024f0eacb77f227b055722",
       "version_major": 2,
       "version_minor": 0
      },
      "text/plain": [
       "JsmolView(layout=Layout(align_self='stretch', height='400px'))"
      ]
     },
     "metadata": {},
     "output_type": "display_data"
    },
    {
     "name": "stdout",
     "output_type": "stream",
     "text": [
      "Rot:\n",
      "[[-1.  0.  0.]\n",
      " [ 0. -1.  0.]\n",
      " [ 0.  0. -1.]]\n",
      "tau\n",
      "[0. 0. 0.]\n"
     ]
    }
   ],
   "source": [
    "view =quick_view(structure)\n",
    "display(view)\n",
    "view.script(\"draw symop 2 {atomno=2}\")\n",
    "sym2=spa_symmop[1]\n",
    "print(sym2)"
   ]
  },
  {
   "cell_type": "code",
   "execution_count": 42,
   "id": "august-discharge",
   "metadata": {},
   "outputs": [
    {
     "data": {
      "application/vnd.jupyter.widget-view+json": {
       "model_id": "9fa418c4f5c24a0e8e187c08c92b66e2",
       "version_major": 2,
       "version_minor": 0
      },
      "text/plain": [
       "JsmolView(layout=Layout(align_self='stretch', height='400px'))"
      ]
     },
     "metadata": {},
     "output_type": "display_data"
    },
    {
     "name": "stdout",
     "output_type": "stream",
     "text": [
      "Rot:\n",
      "[[0. 1. 0.]\n",
      " [0. 0. 1.]\n",
      " [1. 0. 0.]]\n",
      "tau\n",
      "[0. 0. 0.]\n"
     ]
    }
   ],
   "source": [
    "view =quick_view(structure)\n",
    "display(view)\n",
    "view.script(\"draw symop 5 {atomno=5}\")\n",
    "sym3=spa_symmop[4]\n",
    "print(sym3)"
   ]
  }
 ],
 "metadata": {
  "kernelspec": {
   "display_name": "Python 3",
   "language": "python",
   "name": "python3"
  },
  "language_info": {
   "codemirror_mode": {
    "name": "ipython",
    "version": 3
   },
   "file_extension": ".py",
   "mimetype": "text/x-python",
   "name": "python",
   "nbconvert_exporter": "python",
   "pygments_lexer": "ipython3",
   "version": "3.6.8"
  }
 },
 "nbformat": 4,
 "nbformat_minor": 5
}
