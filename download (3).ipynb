{
 "cells": [
  {
   "cell_type": "code",
   "execution_count": 1,
   "id": "coral-parts",
   "metadata": {},
   "outputs": [],
   "source": [
    "from pymatgen import Lattice, Structure, Molecule\n",
    "from pymatgen.ext.matproj import MPRester\n",
    "from jupyter_jsmol.pymatgen import quick_view\n"
   ]
  },
  {
   "cell_type": "code",
   "execution_count": 2,
   "id": "coupled-confusion",
   "metadata": {},
   "outputs": [],
   "source": [
    "with MPRester(\"XWkv843w7d9S0lue\") as m:\n",
    "    structure = m.get_structure_by_material_id(\"mp-7958\")\n",
    "    dos = m.get_dos_by_material_id(\"mp-7958\")\n",
    "    bandstructure = m.get_bandstructure_by_material_id(\"mp-7958\")\n",
    "    "
   ]
  },
  {
   "cell_type": "code",
   "execution_count": 3,
   "id": "level-amber",
   "metadata": {},
   "outputs": [],
   "source": [
    "#print(structure)\n",
    "#print(dos)\n",
    "#print(bandstructure)"
   ]
  },
  {
   "cell_type": "code",
   "execution_count": 4,
   "id": "running-ottawa",
   "metadata": {},
   "outputs": [],
   "source": [
    "#view =quick_view(structure)\n",
    "#display(view)"
   ]
  },
  {
   "cell_type": "code",
   "execution_count": null,
   "id": "resident-franklin",
   "metadata": {},
   "outputs": [],
   "source": []
  }
 ],
 "metadata": {
  "kernelspec": {
   "display_name": "Python 3",
   "language": "python",
   "name": "python3"
  },
  "language_info": {
   "codemirror_mode": {
    "name": "ipython",
    "version": 3
   },
   "file_extension": ".py",
   "mimetype": "text/x-python",
   "name": "python",
   "nbconvert_exporter": "python",
   "pygments_lexer": "ipython3",
   "version": "3.6.8"
  }
 },
 "nbformat": 4,
 "nbformat_minor": 5
}
